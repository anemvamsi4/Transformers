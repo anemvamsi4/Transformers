{
  "cells": [
    {
      "cell_type": "code",
      "execution_count": null,
      "metadata": {
        "id": "C1i7cF5d4UK-"
      },
      "outputs": [],
      "source": [
        "import pandas as pd\n",
        "import regex as re\n",
        "import json\n",
        "from tqdm import tqdm"
      ]
    },
    {
      "cell_type": "code",
      "execution_count": null,
      "metadata": {
        "colab": {
          "base_uri": "https://localhost:8080/",
          "height": 206
        },
        "id": "HxEvG2mw4iFq",
        "outputId": "cdde9332-8463-4f7e-fd51-7f4b95f3a76e"
      },
      "outputs": [
        {
          "data": {
            "application/vnd.google.colaboratory.intrinsic+json": {
              "summary": "{\n  \"name\": \"data\",\n  \"rows\": 655,\n  \"fields\": [\n    {\n      \"column\": \"movie\",\n      \"properties\": {\n        \"dtype\": \"category\",\n        \"num_unique_values\": 177,\n        \"samples\": [\n          \"ananthapuram\",\n          \"roja\",\n          \"hai hai nayaka\"\n        ],\n        \"semantic_type\": \"\",\n        \"description\": \"\"\n      }\n    },\n    {\n      \"column\": \"telugu_lyrics\",\n      \"properties\": {\n        \"dtype\": \"string\",\n        \"num_unique_values\": 603,\n        \"samples\": [\n          \"Karigeloga ee kshanam\\n\\nSingers:\\u00a0Kunal Ganjawala, Megha\\n\\nMusic: Devi Sri Prasad\\n\\nLyrics: Vanamaali \\n\\u0c15\\u0c30\\u0c3f\\u0c17\\u0c47\\u0c32\\u0c4b\\u0c17\\u0c3e \\u0c08 \\u0c15\\u0c4d\\u0c37\\u0c23\\u0c02 \\u0c17\\u0c21\\u0c3f\\u0c2a\\u0c46\\u0c2f\\u0c4d\\u0c2f\\u0c3e\\u0c32\\u0c3f \\u0c1c\\u0c40\\u0c35\\u0c3f\\u0c24\\u0c02 \\n\\u0c36\\u0c3f\\u0c32\\u0c17\\u0c3e \\u0c2e\\u0c3f\\u0c17\\u0c3f\\u0c32\\u0c47 \\u0c28\\u0c3e \\u0c39\\u0c43\\u0c26\\u0c2f\\u0c02 \\u0c38\\u0c3e\\u0c15\\u0c4d\\u0c37\\u0c3f\\u0c17\\u0c3e\\n\\n\\u0c15\\u0c28\\u0c41\\u0c32\\u0c48 \\u0c2a\\u0c4b\\u0c2f\\u0c47 \\u0c38\\u0c3e\\u0c17\\u0c30\\u0c02 \\u0c05\\u0c32\\u0c32\\u0c48 \\u0c2a\\u0c4a\\u0c02\\u0c17\\u0c47 \\u0c1c\\u0c4d\\u0c1e\\u0c3e\\u0c2a\\u0c15\\u0c02\\n\\n\\u0c15\\u0c32\\u0c32\\u0c47 \\u0c1c\\u0c3e\\u0c30\\u0c47 \\u0c15\\u0c28\\u0c4d\\u0c28\\u0c40\\u0c30\\u0c47 \\u0c1a\\u0c47\\u0c30\\u0c17\\u0c3e\\n\\n\\u0c17\\u0c21\\u0c3f\\u0c1a\\u0c47 \\u0c28\\u0c3f\\u0c2e\\u0c41\\u0c37\\u0c02 \\u0c17\\u0c3e\\u0c2f\\u0c2e\\u0c48 \\u0c2a\\u0c4d\\u0c30\\u0c24\\u0c3f \\u0c17\\u0c3e\\u0c2f\\u0c02 \\u0c13 \\u0c17\\u0c2e\\u0c4d\\u0c2f\\u0c2e\\u0c48\\n\\n\\u0c06 \\u0c17\\u0c2e\\u0c4d\\u0c2f\\u0c02 \\u0c28\\u0c40 \\u0c17\\u0c41\\u0c30\\u0c41\\u0c24\\u0c41\\u0c17\\u0c3e \\u0c28\\u0c3f\\u0c32\\u0c3f\\u0c1a\\u0c47 \\u0c28\\u0c3e \\u0c2a\\u0c4d\\u0c30\\u0c47\\u0c2e\\n\\n\\u0c15\\u0c30\\u0c3f\\u0c17\\u0c47\\u0c32\\u0c4b\\u0c17\\u0c3e \\u0c08 \\u0c15\\u0c4d\\u0c37\\u0c23\\u0c02 \\u0c17\\u0c21\\u0c3f\\u0c2a\\u0c46\\u0c2f\\u0c4d\\u0c2f\\u0c3e\\u0c32\\u0c3f \\u0c1c\\u0c40\\u0c35\\u0c3f\\u0c24\\u0c02\\n\\n\\u0c36\\u0c3f\\u0c32\\u0c17\\u0c3e \\u0c2e\\u0c3f\\u0c17\\u0c3f\\u0c32\\u0c47 \\u0c28\\u0c3e \\u0c39\\u0c43\\u0c26\\u0c2f\\u0c02 \\u0c38\\u0c3e\\u0c15\\u0c4d\\u0c37\\u0c3f\\u0c17\\u0c3e\\n\\n\\u0c15\\u0c28\\u0c41\\u0c32\\u0c48 \\u0c2a\\u0c4b\\u0c2f\\u0c47 \\u0c38\\u0c3e\\u0c17\\u0c30\\u0c02 \\u0c05\\u0c32\\u0c32\\u0c48 \\u0c2a\\u0c4a\\u0c02\\u0c17\\u0c47 \\u0c1c\\u0c4d\\u0c1e\\u0c3e\\u0c2a\\u0c15\\u0c02\\n\\n\\u0c15\\u0c32\\u0c32\\u0c47 \\u0c1c\\u0c3e\\u0c30\\u0c47 \\u0c15\\u0c28\\u0c4d\\u0c28\\u0c40\\u0c30\\u0c47 \\u0c1a\\u0c47\\u0c30\\u0c17\\u0c3e \\n\\u0c2a\\u0c30\\u0c41\\u0c17\\u0c41\\u0c32\\u0c41 \\u0c24\\u0c40\\u0c38\\u0c4d\\u0c24\\u0c42 \\u0c05\\u0c32\\u0c38\\u0c3f\\u0c28 \\u00a0\\u0c13 \\u0c28\\u0c26\\u0c3f \\u0c28\\u0c47\\u0c28\\u0c41\\n\\n\\u0c07\\u0c30\\u0c41\\u0c24\\u0c40\\u0c30\\u0c3e\\u0c32\\u0c4d\\u0c32\\u0c4b \\u0c26\\u0c47\\u0c28\\u0c3f\\u0c15\\u0c3f \\u0c1a\\u0c47\\u0c30\\u0c41\\u0c35 \\u0c15\\u0c3e\\u0c28\\u0c41\\n\\n\\u0c28\\u0c3f\\u0c26\\u0c41\\u0c30\\u0c28\\u0c41 \\u0c26\\u0c3e\\u0c1f\\u0c3f \\u0c28\\u0c21\\u0c3f\\u0c1a\\u0c3f\\u0c28 \\u0c13 \\u0c15\\u0c32 \\u0c28\\u0c47\\u0c28\\u0c41\\n\\n\\u0c07\\u0c30\\u0c41\\u0c15\\u0c28\\u0c4d\\u0c28\\u0c41\\u0c32\\u0c4d\\u0c32\\u0c4b \\u0c26\\u0c47\\u0c28\\u0c3f\\u0c15\\u0c3f \\u0c38\\u0c4a\\u0c02\\u0c24\\u0c02 \\u0c15\\u0c3e\\u0c28\\u0c41\\n\\n\\u0c28\\u0c3e \\u0c2a\\u0c4d\\u0c30\\u0c47\\u0c2e\\u0c47 \\u0c28\\u0c47\\u0c38\\u0c4d\\u0c24\\u0c02 \\u0c05\\u0c2f\\u0c4d\\u0c2f\\u0c3f\\u0c02\\u0c26\\u0c3e \\u0c13..\\n\\n\\u0c28\\u0c3e \\u0c38\\u0c17\\u0c2e\\u0c47\\u0c26\\u0c4b \\u0c2a\\u0c4d\\u0c30\\u0c36\\u0c4d\\u0c28\\u0c17\\u0c3e \\u0c2e\\u0c3e\\u0c30\\u0c3f\\u0c02\\u0c26\\u0c3e \\u0c13..\\n\\n\\u0c28\\u0c47\\u0c21\\u0c40 \\u0c2c\\u0c02\\u0c27\\u0c3e\\u0c28\\u0c3f\\u0c15\\u0c3f \\u0c2a\\u0c47\\u0c30\\u0c41\\u0c02\\u0c26\\u0c3e \\u0c13..\\n\\n\\u0c09\\u0c02\\u0c1f\\u0c47 \\u0c35\\u0c3f\\u0c21\\u0c24\\u0c40\\u0c38\\u0c47 \\u0c35\\u0c40\\u0c32\\u0c41\\u0c02\\u0c26\\u0c3e \\u0c13.. \\n\\u0c15\\u0c30\\u0c3f\\u0c17\\u0c47\\u0c32\\u0c4b\\u0c17\\u0c3e \\u0c08 \\u0c15\\u0c4d\\u0c37\\u0c23\\u0c02 \\u0c17\\u0c21\\u0c3f\\u0c2a\\u0c46\\u0c2f\\u0c4d\\u0c2f\\u0c3e\\u0c32\\u0c3f \\u0c1c\\u0c40\\u0c35\\u0c3f\\u0c24\\u0c02\\n\\n\\u0c36\\u0c3f\\u0c32\\u0c17\\u0c3e \\u0c2e\\u0c3f\\u0c17\\u0c3f\\u0c32\\u0c47 \\u0c28\\u0c3e \\u0c39\\u0c43\\u0c26\\u0c2f\\u0c02 \\u0c38\\u0c3e\\u0c15\\u0c4d\\u0c37\\u0c3f\\u0c17\\u0c3e\\n\\n\\u0c15\\u0c28\\u0c41\\u0c32\\u0c48 \\u0c2a\\u0c4b\\u0c2f\\u0c47 \\u0c38\\u0c3e\\u0c17\\u0c30\\u0c02 \\u0c05\\u0c32\\u0c32\\u0c48 \\u0c2a\\u0c4a\\u0c02\\u0c17\\u0c47 \\u0c1c\\u0c4d\\u0c1e\\u0c3e\\u0c2a\\u0c15\\u0c02\\n\\n\\u0c15\\u0c32\\u0c32\\u0c47 \\u0c1c\\u0c3e\\u0c30\\u0c47 \\u0c15\\u0c28\\u0c4d\\u0c28\\u0c40\\u0c30\\u0c47 \\u0c1a\\u0c47\\u0c30\\u0c17\\u0c3e \\n\\u0c05\\u0c21\\u0c3f\\u0c17\\u0c3f\\u0c28\\u0c35\\u0c28\\u0c4d\\u0c28\\u0c40 \\u0c15\\u0c3e\\u0c26\\u0c28\\u0c3f \\u0c2a\\u0c02\\u0c1a\\u0c3f\\u0c38\\u0c4d\\u0c24\\u0c42\\u0c28\\u0c47\\n\\n\\u0c2e\\u0c30\\u0c41\\u0c28\\u0c3f\\u0c2e\\u0c41\\u0c37\\u0c02\\u0c32\\u0c4b \\u0c05\\u0c32\\u0c3f\\u0c17\\u0c47 \\u0c2a\\u0c38\\u0c3f\\u0c35\\u0c3e\\u0c21\\u0c3f\\u0c35\\u0c3f\\u0c32\\u0c47\\n\\n\\u0c28\\u0c40 \\u0c2a\\u0c46\\u0c26\\u0c35\\u0c41\\u0c32\\u0c2a\\u0c48 \\u0c35\\u0c3e\\u0c21\\u0c28\\u0c3f \\u0c28\\u0c35\\u0c4d\\u0c35\\u0c41\\u0c32 \\u0c2a\\u0c41\\u0c35\\u0c4d\\u0c35\\u0c47\\n\\n\\u0c28\\u0c41\\u0c35\\u0c4d\\u0c35\\u0c41 \\u0c2a\\u0c46\\u0c02\\u0c1a\\u0c35\\u0c3e \\u0c28\\u0c40 \\u0c15\\u0c28\\u0c4d\\u0c28\\u0c40\\u0c1f\\u0c3f\\u0c28\\u0c3f \\u0c1a\\u0c32\\u0c4d\\u0c32\\u0c3f\\n\\n\\u0c38\\u0c3e\\u0c17\\u0c47 \\u0c28\\u0c40 \\u0c1c\\u0c02\\u0c1f\\u0c28\\u0c3f \\u0c1a\\u0c42\\u0c38\\u0c4d\\u0c24\\u0c41\\u0c02\\u0c1f\\u0c47 \\u0c13..\\n\\n\\u0c28\\u0c3e \\u0c2c\\u0c3e\\u0c27\\u0c02\\u0c24\\u0c1f\\u0c3f \\u0c05\\u0c02\\u0c26\\u0c02\\u0c17\\u0c3e \\u0c09\\u0c02\\u0c26\\u0c47 \\u0c13..\\n\\n\\u0c08 \\u0c15\\u0c4d\\u0c37\\u0c23\\u0c2e\\u0c47 \\u0c28\\u0c42\\u0c30\\u0c47\\u0c33\\u0c4d\\u0c33\\u0c35\\u0c41\\u0c24\\u0c3e\\u0c28\\u0c02\\u0c1f\\u0c47 \\u0c13..\\n\\n\\u0c2e\\u0c30\\u0c41\\u0c1c\\u0c28\\u0c4d\\u0c2e\\u0c47 \\u0c15\\u0c4d\\u0c37\\u0c23\\u0c2e\\u0c48\\u0c28\\u0c3e \\u0c1a\\u0c3e\\u0c32\\u0c02\\u0c24\\u0c47 \\u0c13..\",\n          \"\\u0c08 \\u0c2e\\u0c42\\u0c17 \\u0c1a\\u0c42\\u0c2a\\u0c47\\u0c32\\u0c3e \\u0c2c\\u0c3e\\u0c35\\u0c3e \\u0c2e\\u0c3e\\u0c1f\\u0c3e\\u0c21\\u0c17\\u0c3e \\u0c28\\u0c47\\u0c30\\u0c35\\u0c3e\\n\\n\\u0c13\\u0c39\\u0c4b \\u0c2e\\u0c3e\\u0c1f\\u0c3e\\u0c21\\u0c26\\u0c47 \\u0c2c\\u0c4a\\u0c2e\\u0c4d\\u0c2e\\u0c3e \\u0c28\\u0c40\\u0c26\\u0c30\\u0c3f\\u0c28\\u0c47 \\u0c1a\\u0c47\\u0c30\\u0c3f \\u0c2e\\u0c3e\\u0c1f\\u0c3e\\u0c21\\u0c28\\u0c3e\\n\\n\\u0c13..\\u0c13..\\u0c08 \\u0c2e\\u0c42\\u0c17 \\u0c1a\\u0c42\\u0c2a\\u0c47\\u0c32\\u0c3e \\u0c2c\\u0c3e\\u0c35\\u0c3e...\\u0c2e\\u0c3e\\u0c1f\\u0c3e\\u0c21\\u0c17\\u0c3e \\u0c28\\u0c47\\u0c30\\u0c35\\u0c3e\\n\\n\\u0c13\\u0c39\\u0c4b \\u0c2e\\u0c3e\\u0c1f\\u0c3e\\u0c21\\u0c26\\u0c47 \\u0c2c\\u0c4a\\u0c2e\\u0c4d\\u0c2e\\u0c3e .. \\n\\n\\n\\n\\u0c30\\u0c46\\u0c2a\\u0c4d\\u0c2a\\u0c47\\u0c2f\\u0c15\\u0c41\\u0c02\\u0c21\\u0c3e \\u0c12\\u0c15\\u0c47 \\u0c24\\u0c40\\u0c30\\u0c41\\u0c28\\u0c3e \\u0c28\\u0c41\\u0c35\\u0c42 \\u0c1a\\u0c42\\u0c38\\u0c4d\\u0c24\\u0c47 \\u0c28\\u0c3e\\u0c15\\u0c47\\u0c26\\u0c4b \\u0c38\\u0c3f\\u0c17\\u0c4d\\u0c17\\u0c35\\u0c41\\u0c24\\u0c26\\u0c3f\\n\\n\\u0c13..\\u0c13\\u0c39\\u0c4a...\\n\\n\\u0c30\\u0c46\\u0c2a\\u0c4d\\u0c2a\\u0c47\\u0c2f\\u0c15\\u0c41\\u0c02\\u0c21\\u0c3e \\u0c12\\u0c15\\u0c47 \\u0c24\\u0c40\\u0c30\\u0c41\\u0c28\\u0c3e \\u0c28\\u0c41\\u0c35\\u0c42 \\u0c1a\\u0c42\\u0c38\\u0c4d\\u0c24\\u0c47 \\u0c28\\u0c3e\\u0c15\\u0c47\\u0c26\\u0c4b \\u0c38\\u0c3f\\u0c17\\u0c4d\\u0c17\\u0c35\\u0c41\\u0c24\\u0c26\\u0c3f\\n\\n\\u0c08 \\u0c38\\u0c3f\\u0c17\\u0c4d\\u0c17\\u0c41 \\u0c08 \\u0c0e\\u0c17\\u0c4d\\u0c17\\u0c41 \\u0c0e\\u0c28\\u0c4d\\u0c28\\u0c3e\\u0c33\\u0c4d\\u0c33\\u0c41\\u0c32\\u0c47\\n\\n\\u0c08 \\u0c38\\u0c3f\\u0c17\\u0c4d\\u0c17\\u0c41 \\u0c08 \\u0c0e\\u0c17\\u0c4d\\u0c17\\u0c41 \\u0c0e\\u0c28\\u0c4d\\u0c28\\u0c3e\\u0c33\\u0c4d\\u0c33\\u0c41\\u0c32\\u0c47 .. \\u0c1a\\u0c47\\u0c2f\\u0c3f \\u0c1a\\u0c47\\u0c2f\\u0c40 \\u0c1a\\u0c47\\u0c30\\u0c3e \\u0c35\\u0c3f\\u0c21\\u0c3f\\u0c2a\\u0c4b\\u0c35\\u0c41\\u0c32\\u0c47\\n\\n\\n\\n\\u0c08 \\u0c2e\\u0c42\\u0c17 \\u0c1a\\u0c42\\u0c2a\\u0c47\\u0c32\\u0c3e \\u0c2c\\u0c3e\\u0c35\\u0c3e... \\u0c2e\\u0c3e\\u0c1f\\u0c3e\\u0c21\\u0c17\\u0c3e \\u0c28\\u0c47\\u0c30\\u0c35\\u0c3e\\n\\n\\u0c13\\u0c39\\u0c4b \\u0c2e\\u0c3e\\u0c1f\\u0c3e\\u0c21\\u0c26\\u0c47 \\u0c2c\\u0c4a\\u0c2e\\u0c4d\\u0c2e\\u0c3e...\\n\\n\\n\\n\\u0c1a\\u0c32\\u0c4d\\u0c32\\u0c17 \\u0c28\\u0c40 \\u0c1a\\u0c47\\u0c2f\\u0c3f \\u0c28\\u0c28\\u0c4d\\u0c28\\u0c02\\u0c1f\\u0c3f\\u0c24\\u0c47 \\u0c1a\\u0c1f\\u0c41\\u0c15\\u0c41\\u0c28 \\u0c28\\u0c3e \\u0c2e\\u0c47\\u0c28\\u0c41 \\u0c1d\\u0c32\\u0c4d\\u0c32\\u0c02\\u0c1f\\u0c26\\u0c3f \\n\\n\\u0c05\\u0c39\\u0c3e..\\u0c06..\\n\\n\\u0c1a\\u0c32\\u0c4d\\u0c32\\u0c17 \\u0c28\\u0c40 \\u0c1a\\u0c47\\u0c2f\\u0c3f \\u0c28\\u0c28\\u0c4d\\u0c28\\u0c02\\u0c1f\\u0c3f\\u0c24\\u0c47 \\u0c1a\\u0c1f\\u0c41\\u0c15\\u0c41\\u0c28 \\u0c28\\u0c3e \\u0c2e\\u0c47\\u0c28\\u0c41 \\u0c1d\\u0c32\\u0c4d\\u0c32\\u0c02\\u0c1f\\u0c26\\u0c3f \\n\\n\\n\\n\\u0c28\\u0c3e \\u0c2e\\u0c41\\u0c02\\u0c26\\u0c41 \\u0c28\\u0c3f\\u0c32\\u0c41\\u0c1a\\u0c41\\u0c02\\u0c21\\u0c3f \\u0c28\\u0c41\\u0c35\\u0c41 \\u0c28\\u0c35\\u0c4d\\u0c35\\u0c3f\\u0c24\\u0c47\\n\\n\\u0c28\\u0c3e \\u0c2e\\u0c41\\u0c02\\u0c26\\u0c41 \\u0c28\\u0c3f\\u0c32\\u0c41\\u0c1a\\u0c41\\u0c02\\u0c21\\u0c3f \\u0c28\\u0c41\\u0c35\\u0c41 \\u0c28\\u0c35\\u0c4d\\u0c35\\u0c3f\\u0c24\\u0c47 \\u0c28\\u0c3e \\u0c2e\\u0c28\\u0c38\\u0c47 \\u0c05\\u0c26\\u0c4b\\u0c32\\u0c3e\\u0c17 \\u0c1c\\u0c3f\\u0c32\\u0c4d\\u0c32\\u0c02\\u0c1f\\u0c26\\u0c3f \\n\\n\\n\\n\\u0c08 \\u0c2e\\u0c42\\u0c17 \\u0c1a\\u0c42\\u0c2a\\u0c47\\u0c32\\u0c3e \\u0c2c\\u0c3e\\u0c35\\u0c3e...\\u0c2e\\u0c3e\\u0c1f\\u0c3e\\u0c21\\u0c17\\u0c3e \\u0c28\\u0c47\\u0c30\\u0c35\\u0c3e\\n\\n\\u0c13\\u0c39\\u0c4b \\u0c2e\\u0c3e\\u0c1f\\u0c3e\\u0c21\\u0c26\\u0c47 \\u0c2c\\u0c4a\\u0c2e\\u0c4d\\u0c2e\\u0c3e...\\n\\n\\n\\n\\u0c1c\\u0c3e\\u0c17\\u0c30\\u0c4d\\u0c24 \\u0c2c\\u0c3e\\u0c35\\u0c3e \\u0c1a\\u0c46\\u0c2f\\u0c3e \\u0c17\\u0c3e\\u0c1c\\u0c41\\u0c32\\u0c42...\\u0c07\\u0c35\\u0c47 \\u0c15\\u0c28\\u0c4d\\u0c28\\u0c46 \\u0c1a\\u0c3f\\u0c28\\u0c4d\\u0c28\\u0c3e\\u0c30\\u0c3f \\u0c24\\u0c4a\\u0c32\\u0c3f\\u0c2e\\u0c4b\\u0c1c\\u0c41\\u0c32\\u0c41\\n\\n\\u0c13\\u0c39\\u0c4b...\\u0c13...\\n\\n\\u0c1c\\u0c3e\\u0c17\\u0c30\\u0c4d\\u0c24 \\u0c2c\\u0c3e\\u0c35\\u0c3e \\u0c1a\\u0c46\\u0c2f\\u0c3e \\u0c17\\u0c3e\\u0c1c\\u0c41\\u0c32\\u0c42...\\u0c07\\u0c35\\u0c47 \\u0c15\\u0c28\\u0c4d\\u0c28\\u0c46 \\u0c1a\\u0c3f\\u0c28\\u0c4d\\u0c28\\u0c3e\\u0c30\\u0c3f \\u0c24\\u0c4a\\u0c32\\u0c3f\\u0c2e\\u0c4b\\u0c1c\\u0c41\\u0c32\\u0c41\\n\\n\\n\\n\\u0c1a\\u0c3e\\u0c1f\\u0c28\\u0c47 \\u0c0e\\u0c32\\u0c41\\u0c17\\u0c46\\u0c24\\u0c4d\\u0c24\\u0c3f \\u0c2f\\u0c40 \\u0c17\\u0c3e\\u0c1c\\u0c41\\u0c32\\u0c47\\n\\n\\u0c1a\\u0c3e\\u0c1f\\u0c28\\u0c47 \\u0c0e\\u0c32\\u0c41\\u0c17\\u0c46\\u0c24\\u0c4d\\u0c24\\u0c3f \\u0c2f\\u0c40 \\u0c17\\u0c3e\\u0c1c\\u0c41\\u0c32\\u0c47.... \\u0c08 \\u0c35\\u0c47\\u0c33 \\u0c2e\\u0c30\\u0c47\\u0c35\\u0c47\\u0c33 \\u0c2e\\u0c28 \\u0c30\\u0c4b\\u0c1c\\u0c41\\u0c32\\u0c47..\\n\\n\\n\\n\\u0c08 \\u0c2e\\u0c42\\u0c17 \\u0c1a\\u0c42\\u0c2a\\u0c47\\u0c32\\u0c3e \\u0c2c\\u0c3e\\u0c35\\u0c3e \\u0c2e\\u0c3e\\u0c1f\\u0c3e\\u0c21\\u0c17\\u0c3e \\u0c28\\u0c47\\u0c30\\u0c35\\u0c3e\\n\\n\\u0c13\\u0c39\\u0c4b \\u0c2e\\u0c3e\\u0c1f\\u0c3e\\u0c21\\u0c26\\u0c47 \\u0c2c\\u0c4a\\u0c2e\\u0c4d\\u0c2e\\u0c3e...\",\n          \"\\u0c38\\u0c28\\u0c4d\\u0c28\\u0c1c\\u0c3e\\u0c1c\\u0c41\\u0c32\\u0c4b\\u0c2f\\u0c4d \\u0c15\\u0c28\\u0c4d\\u0c28\\u0c46\\u0c2e\\u0c4b\\u0c1c\\u0c41\\u0c32\\u0c4b\\u0c2f\\u0c4d......  //2//\\n             \\u0c05\\u0c32\\u0c4d\\u0c32\\u0c3f\\u0c2c\\u0c3f\\u0c32\\u0c4d\\u0c32\\u0c3f \\u0c38\\u0c02\\u0c24\\u0c32\\u0c4b\\u0c28 \\u0c2a\\u0c3f\\u0c32\\u0c4d\\u0c32\\u0c17\\u0c3e\\u0c32\\u0c3f \\u0c1c\\u0c3e\\u0c24\\u0c30\\u0c3e\\u0c2f\\u0c46 \\u0c24\\u0c33\\u0c41\\u0c15\\u0c41 \\u0c2c\\u0c46\\u0c33\\u0c41\\u0c15\\u0c41 \\u0c15\\u0c28\\u0c35\\u0c47\\u0c30\\u0c3e\\n             \\u0c2a\\u0c3e\\u0c32\\u0c35\\u0c46\\u0c32\\u0c4d\\u0c32\\u0c3f \\u0c2a\\u0c41\\u0c02\\u0c24\\u0c15\\u0c3e\\u0c21 \\u0c2a\\u0c48\\u0c1f\\u0c15\\u0c4a\\u0c02\\u0c17\\u0c41 \\u0c1c\\u0c3e\\u0c30\\u0c3f\\u0c2a\\u0c4b\\u0c2f\\u0c46 \\u0c2a\\u0c21\\u0c41\\u0c1a\\u0c41 \\u0c17\\u0c4a\\u0c21\\u0c35 \\u0c35\\u0c3f\\u0c28\\u0c35\\u0c47\\u0c30\\u0c3e\\n            \\u0c38\\u0c28\\u0c4d\\u0c28\\u0c1c\\u0c3e\\u0c1c\\u0c41\\u0c32\\u0c4b\\u0c2f\\u0c4d \\u0c15\\u0c28\\u0c4d\\u0c28\\u0c46\\u0c2e\\u0c4b\\u0c1c\\u0c41\\u0c32\\u0c4b\\u0c2f\\u0c4d......\\n            \\u0c15\\u0c28\\u0c4d\\u0c28\\u0c41\\u0c15\\u0c28\\u0c4d\\u0c28\\u0c41 \\u0c17\\u0c40\\u0c1f\\u0c41\\u0c15\\u0c41\\u0c02\\u0c1f\\u0c47 \\u0c38\\u0c28\\u0c4d\\u0c28\\u0c38\\u0c28\\u0c4d\\u0c28 \\u0c2e\\u0c02\\u0c1f\\u0c30\\u0c47\\u0c17\\u0c47 \\u0c15\\u0c32\\u0c3f\\u0c15\\u0c3f \\u0c1a\\u0c3f\\u0c32\\u0c41\\u0c15\\u0c41 \\u0c07\\u0c1f\\u0c41\\u0c30\\u0c3e\\u0c35\\u0c47\\n            \\u0c12\\u0c33\\u0c4d\\u0c32\\u0c41 \\u0c12\\u0c33\\u0c4d\\u0c32\\u0c41 \\u0c2e\\u0c40\\u0c1f\\u0c41\\u0c15\\u0c41\\u0c02\\u0c1f\\u0c47 \\u0c35\\u0c17\\u0c32\\u0c2e\\u0c3e\\u0c30\\u0c3f \\u0c38\\u0c46\\u0c17\\u0c32\\u0c41 \\u0c2a\\u0c41\\u0c1f\\u0c4d\\u0c1f\\u0c46 \\u0c35\\u0c32\\u0c2a\\u0c41 \\u0c2a\\u0c3f\\u0c32\\u0c41\\u0c2a\\u0c41 \\u0c35\\u0c3f\\u0c28\\u0c3f\\u0c2a\\u0c4b\\u0c35\\u0c47              \\n\\n\\u0c1a\\u0c30\\u0c23\\u0c02 1 : \\u0c2c\\u0c3e\\u0c28\\u0c3f\\u0c38\\u0c17\\u0c3e \\u0c35\\u0c1a\\u0c4d\\u0c1a\\u0c3e\\u0c35\\u0c41 \\u0c28\\u0c28\\u0c4d\\u0c28\\u0c47 \\u0c28\\u0c40 \\u0c2c\\u0c3e\\u0c28\\u0c3f\\u0c38\\u0c17\\u0c3e \\u0c1a\\u0c47\\u0c38\\u0c41\\u0c15\\u0c41\\u0c28\\u0c4d\\u0c28\\u0c3e\\u0c35\\u0c41\\n                   \\u0c2e\\u0c17\\u0c24\\u0c28\\u0c02 \\u0c1a\\u0c42\\u0c2a\\u0c3e\\u0c35\\u0c41 \\u0c28\\u0c3e\\u0c32\\u0c4b \\u0c06\\u0c21\\u0c24\\u0c28\\u0c3e\\u0c28\\u0c4d\\u0c28\\u0c3f \\u0c28\\u0c3f\\u0c26\\u0c4d\\u0c30\\u0c32\\u0c47\\u0c2a\\u0c3e\\u0c35\\u0c41\\n                   \\u0c30\\u0c47\\u0c2f\\u0c3f \\u0c24\\u0c46\\u0c32\\u0c4d\\u0c32\\u0c3e\\u0c30\\u0c3f \\u0c1a\\u0c32\\u0c4d\\u0c32\\u0c3e\\u0c30\\u0c3f \\u0c2a\\u0c4b\\u0c24\\u0c41\\u0c02\\u0c26\\u0c3f\\u0c30\\u0c3e \\u0c30\\u0c3e\\u0c30\\u0c3e \\u0c38\\u0c41\\u0c02\\u0c26\\u0c30\\u0c3e\\n                   \\u0c12\\u0c15\\u0c1f\\u0c41\\u0c28\\u0c4d\\u0c28\\u0c26\\u0c3f \\u0c28\\u0c40\\u0c32\\u0c4b \\u0c12\\u0c21\\u0c41\\u0c2a\\u0c41\\u0c28\\u0c4d\\u0c28\\u0c26\\u0c3f \\u0c28\\u0c3e\\u0c32\\u0c4b\\n                   \\u0c05\\u0c26\\u0c3f \\u0c09\\u0c28\\u0c4d\\u0c28\\u0c26\\u0c3f \\u0c32\\u0c47\\u0c28\\u0c3f\\u0c26\\u0c40 \\u0c24\\u0c46\\u0c32\\u0c41\\u0c38\\u0c41\\u0c15\\u0c4b\\n                   \\u0c2e\\u0c46\\u0c30\\u0c41\\u0c2a\\u0c41\\u0c28\\u0c4d\\u0c28\\u0c26\\u0c3f \\u0c28\\u0c3e\\u0c32\\u0c4b \\u0c09\\u0c30\\u0c41\\u0c2e\\u0c41\\u0c28\\u0c4d\\u0c28\\u0c26\\u0c3f \\u0c28\\u0c40\\u0c32\\u0c4b\\n                   \\u0c05\\u0c26\\u0c3f \\u0c28\\u0c40\\u0c26\\u0c28\\u0c40 \\u0c07\\u0c26\\u0c3f \\u0c28\\u0c3e\\u0c26\\u0c28\\u0c3f \\u0c2e\\u0c30\\u0c1a\\u0c3f\\u0c2a\\u0c4b                   //\\u0c38\\u0c28\\u0c4d\\u0c28\\u0c1c\\u0c3e\\u0c1c\\u0c41\\u0c32\\u0c4b\\u0c2f\\u0c4d//\\n\\n\\u0c1a\\u0c30\\u0c23\\u0c02 2: \\u0c08 \\u0c26\\u0c4d\\u0c35\\u0c40\\u0c2a\\u0c3e\\u0c28\\u0c3f\\u0c15\\u0c3f \\u0c26\\u0c40\\u0c2a\\u0c3e\\u0c28\\u0c3f\\u0c15\\u0c3f \\u0c28\\u0c41\\u0c35\\u0c4d\\u0c35\\u0c41 \\u0c08 \\u0c32\\u0c02\\u0c15\\u0c15\\u0c47 \\u0c28\\u0c46\\u0c32\\u0c35\\u0c02\\u0c15 \\u0c28\\u0c41\\u0c35\\u0c4d\\u0c35\\u0c41\\n                   \\u0c2e\\u0c32\\u0c4d\\u0c32\\u0c46\\u0c2a\\u0c41\\u0c35\\u0c4d\\u0c35\\u0c02\\u0c1f\\u0c3f \\u0c30\\u0c35\\u0c4d\\u0c35\\u0c02\\u0c1f\\u0c3f \\u0c2e\\u0c28\\u0c38\\u0c41\\u0c02\\u0c26\\u0c3f\\u0c32\\u0c47 \\u0c2e\\u0c17\\u0c24\\u0c4b\\u0c21\\u0c41\\u0c02\\u0c26\\u0c3f\\u0c32\\u0c47\\n                  \\u0c1a\\u0c3f\\u0c02\\u0c24 \\u0c1a\\u0c3f\\u0c17\\u0c41\\u0c30\\u0c02\\u0c1f\\u0c3f \\u0c2a\\u0c4a\\u0c17\\u0c30\\u0c41\\u0c02\\u0c26\\u0c3f \\u0c35\\u0c17\\u0c30\\u0c41\\u0c02\\u0c26\\u0c3f\\u0c32\\u0c47 \\u0c38\\u0c46\\u0c17\\u0c30\\u0c47\\u0c17\\u0c3f\\u0c02\\u0c26\\u0c3f\\u0c32\\u0c47\\n                  \\u0c35\\u0c32\\u0c2a\\u0c41\\u0c28\\u0c4d\\u0c28\\u0c26\\u0c3f \\u0c28\\u0c3e\\u0c32\\u0c4b \\u0c35\\u0c32\\u0c2a\\u0c41\\u0c28\\u0c4d\\u0c28\\u0c26\\u0c3f \\u0c28\\u0c40\\u0c32\\u0c4b\\n                   \\u0c06 \\u0c2a\\u0c1f\\u0c4d\\u0c1f\\u0c41 \\u0c08 \\u0c35\\u0c3f\\u0c21\\u0c41\\u0c2a\\u0c41 \\u0c28\\u0c40 \\u0c15\\u0c4b\\u0c30\\u0c41\\u0c15\\u0c4b\\n                 \\u0c38\\u0c17\\u0c2e\\u0c41\\u0c28\\u0c4d\\u0c28\\u0c26\\u0c3f \\u0c28\\u0c3e\\u0c32\\u0c4b \\u0c38\\u0c17\\u0c2e\\u0c41\\u0c28\\u0c4d\\u0c28\\u0c26\\u0c3f \\u0c28\\u0c40\\u0c32\\u0c4b\\n                  \\u0c30\\u0c46\\u0c02\\u0c1f\\u0c3f\\u0c28\\u0c40 \\u0c1c\\u0c02\\u0c1f\\u0c17\\u0c3e \\u0c2e\\u0c32\\u0c1a\\u0c41\\u0c15\\u0c4b           \"\n        ],\n        \"semantic_type\": \"\",\n        \"description\": \"\"\n      }\n    },\n    {\n      \"column\": \"lyricist\",\n      \"properties\": {\n        \"dtype\": \"category\",\n        \"num_unique_values\": 84,\n        \"samples\": [\n          \"mallapudi sastry\",\n          \"Ramajogayya Sastri\",\n          \"AM Ratnam\"\n        ],\n        \"semantic_type\": \"\",\n        \"description\": \"\"\n      }\n    },\n    {\n      \"column\": \"year\",\n      \"properties\": {\n        \"dtype\": \"number\",\n        \"std\": 15,\n        \"min\": 1950,\n        \"max\": 2021,\n        \"num_unique_values\": 62,\n        \"samples\": [\n          1964,\n          1972,\n          2013\n        ],\n        \"semantic_type\": \"\",\n        \"description\": \"\"\n      }\n    }\n  ]\n}",
              "type": "dataframe",
              "variable_name": "data"
            },
            "text/html": [
              "\n",
              "  <div id=\"df-123724d8-07d7-4a17-9547-4e8098585a92\" class=\"colab-df-container\">\n",
              "    <div>\n",
              "<style scoped>\n",
              "    .dataframe tbody tr th:only-of-type {\n",
              "        vertical-align: middle;\n",
              "    }\n",
              "\n",
              "    .dataframe tbody tr th {\n",
              "        vertical-align: top;\n",
              "    }\n",
              "\n",
              "    .dataframe thead th {\n",
              "        text-align: right;\n",
              "    }\n",
              "</style>\n",
              "<table border=\"1\" class=\"dataframe\">\n",
              "  <thead>\n",
              "    <tr style=\"text-align: right;\">\n",
              "      <th></th>\n",
              "      <th>movie</th>\n",
              "      <th>telugu_lyrics</th>\n",
              "      <th>lyricist</th>\n",
              "      <th>year</th>\n",
              "    </tr>\n",
              "  </thead>\n",
              "  <tbody>\n",
              "    <tr>\n",
              "      <th>0</th>\n",
              "      <td>doosukeltha</td>\n",
              "      <td>2010 summerలో రేణిగుంట స్టేషన్\\nplatform 2 లో ...</td>\n",
              "      <td>Ramajogayya Sastri</td>\n",
              "      <td>2013</td>\n",
              "    </tr>\n",
              "    <tr>\n",
              "      <th>1</th>\n",
              "      <td>doosukeltha</td>\n",
              "      <td>ఉగ్గు పాల రొజుల్లోనే సిగ్గు శరం వదిలేసాడే\\nనిక...</td>\n",
              "      <td>Ramajogayya Sastri</td>\n",
              "      <td>2013</td>\n",
              "    </tr>\n",
              "    <tr>\n",
              "      <th>2</th>\n",
              "      <td>doosukeltha</td>\n",
              "      <td>\\n\\nModati sari\\nSingers: Rahul Sipligunj, Sud...</td>\n",
              "      <td>Sreemani</td>\n",
              "      <td>2013</td>\n",
              "    </tr>\n",
              "    <tr>\n",
              "      <th>3</th>\n",
              "      <td>doosukeltha</td>\n",
              "      <td>సూదిమందే గుచ్చినావే గుండెల్లో సుందరాంగి\\nప్రేమ...</td>\n",
              "      <td>Sreemani</td>\n",
              "      <td>2013</td>\n",
              "    </tr>\n",
              "    <tr>\n",
              "      <th>4</th>\n",
              "      <td>doosukeltha</td>\n",
              "      <td>2010 summerలో రేణిగుంట స్టేషన్\\nplatform 2 లో ...</td>\n",
              "      <td>Ramajogayya Sastri</td>\n",
              "      <td>2013</td>\n",
              "    </tr>\n",
              "  </tbody>\n",
              "</table>\n",
              "</div>\n",
              "    <div class=\"colab-df-buttons\">\n",
              "\n",
              "  <div class=\"colab-df-container\">\n",
              "    <button class=\"colab-df-convert\" onclick=\"convertToInteractive('df-123724d8-07d7-4a17-9547-4e8098585a92')\"\n",
              "            title=\"Convert this dataframe to an interactive table.\"\n",
              "            style=\"display:none;\">\n",
              "\n",
              "  <svg xmlns=\"http://www.w3.org/2000/svg\" height=\"24px\" viewBox=\"0 -960 960 960\">\n",
              "    <path d=\"M120-120v-720h720v720H120Zm60-500h600v-160H180v160Zm220 220h160v-160H400v160Zm0 220h160v-160H400v160ZM180-400h160v-160H180v160Zm440 0h160v-160H620v160ZM180-180h160v-160H180v160Zm440 0h160v-160H620v160Z\"/>\n",
              "  </svg>\n",
              "    </button>\n",
              "\n",
              "  <style>\n",
              "    .colab-df-container {\n",
              "      display:flex;\n",
              "      gap: 12px;\n",
              "    }\n",
              "\n",
              "    .colab-df-convert {\n",
              "      background-color: #E8F0FE;\n",
              "      border: none;\n",
              "      border-radius: 50%;\n",
              "      cursor: pointer;\n",
              "      display: none;\n",
              "      fill: #1967D2;\n",
              "      height: 32px;\n",
              "      padding: 0 0 0 0;\n",
              "      width: 32px;\n",
              "    }\n",
              "\n",
              "    .colab-df-convert:hover {\n",
              "      background-color: #E2EBFA;\n",
              "      box-shadow: 0px 1px 2px rgba(60, 64, 67, 0.3), 0px 1px 3px 1px rgba(60, 64, 67, 0.15);\n",
              "      fill: #174EA6;\n",
              "    }\n",
              "\n",
              "    .colab-df-buttons div {\n",
              "      margin-bottom: 4px;\n",
              "    }\n",
              "\n",
              "    [theme=dark] .colab-df-convert {\n",
              "      background-color: #3B4455;\n",
              "      fill: #D2E3FC;\n",
              "    }\n",
              "\n",
              "    [theme=dark] .colab-df-convert:hover {\n",
              "      background-color: #434B5C;\n",
              "      box-shadow: 0px 1px 3px 1px rgba(0, 0, 0, 0.15);\n",
              "      filter: drop-shadow(0px 1px 2px rgba(0, 0, 0, 0.3));\n",
              "      fill: #FFFFFF;\n",
              "    }\n",
              "  </style>\n",
              "\n",
              "    <script>\n",
              "      const buttonEl =\n",
              "        document.querySelector('#df-123724d8-07d7-4a17-9547-4e8098585a92 button.colab-df-convert');\n",
              "      buttonEl.style.display =\n",
              "        google.colab.kernel.accessAllowed ? 'block' : 'none';\n",
              "\n",
              "      async function convertToInteractive(key) {\n",
              "        const element = document.querySelector('#df-123724d8-07d7-4a17-9547-4e8098585a92');\n",
              "        const dataTable =\n",
              "          await google.colab.kernel.invokeFunction('convertToInteractive',\n",
              "                                                    [key], {});\n",
              "        if (!dataTable) return;\n",
              "\n",
              "        const docLinkHtml = 'Like what you see? Visit the ' +\n",
              "          '<a target=\"_blank\" href=https://colab.research.google.com/notebooks/data_table.ipynb>data table notebook</a>'\n",
              "          + ' to learn more about interactive tables.';\n",
              "        element.innerHTML = '';\n",
              "        dataTable['output_type'] = 'display_data';\n",
              "        await google.colab.output.renderOutput(dataTable, element);\n",
              "        const docLink = document.createElement('div');\n",
              "        docLink.innerHTML = docLinkHtml;\n",
              "        element.appendChild(docLink);\n",
              "      }\n",
              "    </script>\n",
              "  </div>\n",
              "\n",
              "\n",
              "<div id=\"df-233b3e45-0318-4631-a053-0c2b66ed6fc7\">\n",
              "  <button class=\"colab-df-quickchart\" onclick=\"quickchart('df-233b3e45-0318-4631-a053-0c2b66ed6fc7')\"\n",
              "            title=\"Suggest charts\"\n",
              "            style=\"display:none;\">\n",
              "\n",
              "<svg xmlns=\"http://www.w3.org/2000/svg\" height=\"24px\"viewBox=\"0 0 24 24\"\n",
              "     width=\"24px\">\n",
              "    <g>\n",
              "        <path d=\"M19 3H5c-1.1 0-2 .9-2 2v14c0 1.1.9 2 2 2h14c1.1 0 2-.9 2-2V5c0-1.1-.9-2-2-2zM9 17H7v-7h2v7zm4 0h-2V7h2v10zm4 0h-2v-4h2v4z\"/>\n",
              "    </g>\n",
              "</svg>\n",
              "  </button>\n",
              "\n",
              "<style>\n",
              "  .colab-df-quickchart {\n",
              "      --bg-color: #E8F0FE;\n",
              "      --fill-color: #1967D2;\n",
              "      --hover-bg-color: #E2EBFA;\n",
              "      --hover-fill-color: #174EA6;\n",
              "      --disabled-fill-color: #AAA;\n",
              "      --disabled-bg-color: #DDD;\n",
              "  }\n",
              "\n",
              "  [theme=dark] .colab-df-quickchart {\n",
              "      --bg-color: #3B4455;\n",
              "      --fill-color: #D2E3FC;\n",
              "      --hover-bg-color: #434B5C;\n",
              "      --hover-fill-color: #FFFFFF;\n",
              "      --disabled-bg-color: #3B4455;\n",
              "      --disabled-fill-color: #666;\n",
              "  }\n",
              "\n",
              "  .colab-df-quickchart {\n",
              "    background-color: var(--bg-color);\n",
              "    border: none;\n",
              "    border-radius: 50%;\n",
              "    cursor: pointer;\n",
              "    display: none;\n",
              "    fill: var(--fill-color);\n",
              "    height: 32px;\n",
              "    padding: 0;\n",
              "    width: 32px;\n",
              "  }\n",
              "\n",
              "  .colab-df-quickchart:hover {\n",
              "    background-color: var(--hover-bg-color);\n",
              "    box-shadow: 0 1px 2px rgba(60, 64, 67, 0.3), 0 1px 3px 1px rgba(60, 64, 67, 0.15);\n",
              "    fill: var(--button-hover-fill-color);\n",
              "  }\n",
              "\n",
              "  .colab-df-quickchart-complete:disabled,\n",
              "  .colab-df-quickchart-complete:disabled:hover {\n",
              "    background-color: var(--disabled-bg-color);\n",
              "    fill: var(--disabled-fill-color);\n",
              "    box-shadow: none;\n",
              "  }\n",
              "\n",
              "  .colab-df-spinner {\n",
              "    border: 2px solid var(--fill-color);\n",
              "    border-color: transparent;\n",
              "    border-bottom-color: var(--fill-color);\n",
              "    animation:\n",
              "      spin 1s steps(1) infinite;\n",
              "  }\n",
              "\n",
              "  @keyframes spin {\n",
              "    0% {\n",
              "      border-color: transparent;\n",
              "      border-bottom-color: var(--fill-color);\n",
              "      border-left-color: var(--fill-color);\n",
              "    }\n",
              "    20% {\n",
              "      border-color: transparent;\n",
              "      border-left-color: var(--fill-color);\n",
              "      border-top-color: var(--fill-color);\n",
              "    }\n",
              "    30% {\n",
              "      border-color: transparent;\n",
              "      border-left-color: var(--fill-color);\n",
              "      border-top-color: var(--fill-color);\n",
              "      border-right-color: var(--fill-color);\n",
              "    }\n",
              "    40% {\n",
              "      border-color: transparent;\n",
              "      border-right-color: var(--fill-color);\n",
              "      border-top-color: var(--fill-color);\n",
              "    }\n",
              "    60% {\n",
              "      border-color: transparent;\n",
              "      border-right-color: var(--fill-color);\n",
              "    }\n",
              "    80% {\n",
              "      border-color: transparent;\n",
              "      border-right-color: var(--fill-color);\n",
              "      border-bottom-color: var(--fill-color);\n",
              "    }\n",
              "    90% {\n",
              "      border-color: transparent;\n",
              "      border-bottom-color: var(--fill-color);\n",
              "    }\n",
              "  }\n",
              "</style>\n",
              "\n",
              "  <script>\n",
              "    async function quickchart(key) {\n",
              "      const quickchartButtonEl =\n",
              "        document.querySelector('#' + key + ' button');\n",
              "      quickchartButtonEl.disabled = true;  // To prevent multiple clicks.\n",
              "      quickchartButtonEl.classList.add('colab-df-spinner');\n",
              "      try {\n",
              "        const charts = await google.colab.kernel.invokeFunction(\n",
              "            'suggestCharts', [key], {});\n",
              "      } catch (error) {\n",
              "        console.error('Error during call to suggestCharts:', error);\n",
              "      }\n",
              "      quickchartButtonEl.classList.remove('colab-df-spinner');\n",
              "      quickchartButtonEl.classList.add('colab-df-quickchart-complete');\n",
              "    }\n",
              "    (() => {\n",
              "      let quickchartButtonEl =\n",
              "        document.querySelector('#df-233b3e45-0318-4631-a053-0c2b66ed6fc7 button');\n",
              "      quickchartButtonEl.style.display =\n",
              "        google.colab.kernel.accessAllowed ? 'block' : 'none';\n",
              "    })();\n",
              "  </script>\n",
              "</div>\n",
              "\n",
              "    </div>\n",
              "  </div>\n"
            ],
            "text/plain": [
              "         movie                                      telugu_lyrics  \\\n",
              "0  doosukeltha  2010 summerలో రేణిగుంట స్టేషన్\\nplatform 2 లో ...   \n",
              "1  doosukeltha  ఉగ్గు పాల రొజుల్లోనే సిగ్గు శరం వదిలేసాడే\\nనిక...   \n",
              "2  doosukeltha  \\n\\nModati sari\\nSingers: Rahul Sipligunj, Sud...   \n",
              "3  doosukeltha  సూదిమందే గుచ్చినావే గుండెల్లో సుందరాంగి\\nప్రేమ...   \n",
              "4  doosukeltha  2010 summerలో రేణిగుంట స్టేషన్\\nplatform 2 లో ...   \n",
              "\n",
              "             lyricist  year  \n",
              "0  Ramajogayya Sastri  2013  \n",
              "1  Ramajogayya Sastri  2013  \n",
              "2            Sreemani  2013  \n",
              "3            Sreemani  2013  \n",
              "4  Ramajogayya Sastri  2013  "
            ]
          },
          "execution_count": 2,
          "metadata": {},
          "output_type": "execute_result"
        }
      ],
      "source": [
        "data = pd.read_excel('telugu_lyrics.xlsx')\n",
        "data.head()"
      ]
    },
    {
      "cell_type": "code",
      "execution_count": null,
      "metadata": {
        "id": "ysoxP9iA4utV"
      },
      "outputs": [],
      "source": [
        "lyrics = data['telugu_lyrics'].astype(str)"
      ]
    },
    {
      "cell_type": "markdown",
      "metadata": {
        "id": "-Jd73-Pi5BI-"
      },
      "source": [
        "### Understanding Telugu Text"
      ]
    },
    {
      "cell_type": "code",
      "execution_count": null,
      "metadata": {
        "colab": {
          "base_uri": "https://localhost:8080/"
        },
        "id": "xh1Wz3v94-5Q",
        "outputId": "207d6a83-8b9c-464f-cf74-41dfc5070ceb"
      },
      "outputs": [
        {
          "name": "stdout",
          "output_type": "stream",
          "text": [
            "2010 summerలో రేణిగుంట స్టేషన్\n",
            "platform 2 లో మెరిసిందో అందాల సెన్సేషన్\n",
            "ఒక లుక్ ఏసా తను చూసేలా టక్కున \n",
            "\n",
            "Utf-8 Encoded: [50, 48, 49, 48, 32, 115, 117, 109, 109, 101, 114, 224, 176, 178, 224, 177, 139, 32, 224, 176, 176, 224, 177, 135, 224, 176, 163, 224, 176, 191, 224, 176, 151, 224, 177, 129, 224, 176, 130, 224, 176, 159, 32, 224, 176, 184, 224, 177, 141, 224, 176, 159, 224, 177, 135, 224, 176, 183, 224, 176, 168, 224, 177, 141, 10, 112, 108, 97, 116, 102, 111, 114, 109, 32, 50, 32, 224, 176, 178, 224, 177, 139, 32, 224, 176, 174, 224, 177, 134, 224, 176, 176, 224, 176, 191, 224, 176, 184, 224, 176, 191, 224, 176, 130, 224, 176, 166, 224, 177, 139, 32, 224, 176, 133, 224, 176, 130, 224, 176, 166, 224, 176, 190, 224, 176, 178, 32, 224, 176, 184, 224, 177, 134, 224, 176, 168, 224, 177, 141, 224, 176, 184, 224, 177, 135, 224, 176, 183, 224, 176, 168, 224, 177, 141, 10, 224, 176, 146, 224, 176, 149, 32, 224, 176, 178, 224, 177, 129, 224, 176, 149, 224, 177, 141, 194, 160, 224, 176, 143, 224, 176, 184, 224, 176, 190, 194, 160, 224, 176, 164, 224, 176, 168, 224, 177, 129, 32, 224, 176, 154, 224, 177, 130, 224, 176, 184, 224, 177, 135, 224, 176, 178, 224, 176, 190, 32, 224, 176, 159, 224, 176, 149, 224, 177, 141, 224, 176, 149, 224, 177, 129, 224, 176, 168]\n",
            "\n",
            "Length increased from 100 -> 234\n"
          ]
        }
      ],
      "source": [
        "# utf-8 encoding on Sample text\n",
        "text = lyrics[0][:100]\n",
        "enc_text = list(text.encode('utf-8'))\n",
        "print(text, '\\n\\nUtf-8 Encoded:', enc_text, end='\\n\\n')\n",
        "\n",
        "print('Length increased from', len(text), '->', len(enc_text))"
      ]
    },
    {
      "cell_type": "code",
      "execution_count": null,
      "metadata": {
        "colab": {
          "base_uri": "https://localhost:8080/"
        },
        "id": "tzHZwCnu5M4C",
        "outputId": "c75aec04-f3d7-473b-bfd9-eb5cc6121174"
      },
      "outputs": [
        {
          "name": "stdout",
          "output_type": "stream",
          "text": [
            "1 python char: ల\n",
            "1 python char, in utf-8: [224, 176, 178]\n",
            "\n",
            "1 telugu char: లో\n",
            "1 telugu char, in utf-8: [224, 176, 178, 224, 177, 139]\n"
          ]
        }
      ],
      "source": [
        "# single character analysis\n",
        "print('1 python char:',text[11])\n",
        "print('1 python char, in utf-8:', list(text[11].encode('utf-8')), end='\\n\\n')\n",
        "\n",
        "print('1 telugu char:',text[11:13])\n",
        "print('1 telugu char, in utf-8:', list(text[11:13].encode('utf-8')))"
      ]
    },
    {
      "cell_type": "markdown",
      "metadata": {
        "id": "lV41SCRF9Uau"
      },
      "source": [
        "* 1 Telugu character  =  2 python chars = 6 utf-8 numbers"
      ]
    },
    {
      "cell_type": "code",
      "execution_count": null,
      "metadata": {
        "colab": {
          "base_uri": "https://localhost:8080/"
        },
        "id": "i49bmCD-D1MA",
        "outputId": "539c0558-f72c-4545-ddee-66d5daaa4b46"
      },
      "outputs": [
        {
          "name": "stdout",
          "output_type": "stream",
          "text": [
            "Total Python Chars in Dataset: 635860\n",
            "Total Utf-8 Chars in Dataset: 1590212\n",
            "\n",
            "Seq length scaled by 2.50X\n"
          ]
        }
      ],
      "source": [
        "# Dataset Length (characters & utf-8 numbers)\n",
        "\n",
        "print(\"Total Python Chars in Dataset:\", len(''.join(lyrics)))\n",
        "print(\"Total Utf-8 Chars in Dataset:\", len(list(''.join(lyrics).encode('utf-8'))), end='\\n\\n')\n",
        "\n",
        "print(f\"Seq length scaled by {len(list(''.join(lyrics).encode('utf-8')))/len(''.join(lyrics)):.2f}X\")"
      ]
    },
    {
      "cell_type": "markdown",
      "metadata": {
        "id": "Lzg1VLsy91Pp"
      },
      "source": [
        "### Character Level Tokenization (Pyhton char)"
      ]
    },
    {
      "cell_type": "code",
      "execution_count": null,
      "metadata": {
        "id": "v204U8ie6qo_"
      },
      "outputs": [],
      "source": [
        "class CharLevelTokenizer:\n",
        "    def __init__(self):\n",
        "        self.char_to_idx = {}  # Character to index mapping\n",
        "        self.idx_to_char = {}  # Index to character mapping\n",
        "        self.vocab_size = 0\n",
        "\n",
        "    def fit(self, texts: list):\n",
        "        \"\"\"Build vocabulary from list of texts\"\"\"\n",
        "        # Get unique characters from all texts\n",
        "        unique_chars = sorted(set(''.join(texts)))\n",
        "\n",
        "        # Create mappings\n",
        "        self.char_to_idx = {char: idx for idx, char in enumerate(unique_chars)}\n",
        "        self.idx_to_char = {idx: char for idx, char in enumerate(unique_chars)}\n",
        "        self.vocab_size = len(unique_chars)\n",
        "\n",
        "    def encode(self, text):\n",
        "        \"\"\"Convert text to list of token indices\"\"\"\n",
        "        return [self.char_to_idx[char] for char in text]\n",
        "\n",
        "    def decode(self, indices):\n",
        "        \"\"\"Convert list of token indices back to text\"\"\"\n",
        "        return ''.join(self.idx_to_char[idx] for idx in indices)\n",
        "\n",
        "    def get_vocab(self) -> dict:\n",
        "        \"\"\"Return the vocabulary dictionary\"\"\"\n",
        "        return {\n",
        "            'char_to_idx': self.char_to_idx,\n",
        "            'idx_to_char': self.idx_to_char,\n",
        "            'vocab_size': self.vocab_size\n",
        "        }\n",
        "\n",
        "    def save_vocab(self, filename: str):\n",
        "        \"\"\"Saves the vocab as <filename>.json\"\"\"\n",
        "\n",
        "        vocab = self.get_vocab()\n",
        "\n",
        "        with open(f\"{filename}.json\", 'w', encoding='utf-8') as f:\n",
        "            json.dump(vocab,f, indent = 2)\n",
        "\n",
        "\n",
        "    def set_vocab(self, vocab: dict):\n",
        "        \"\"\"Sets up the tokenizer with given Vocabulary\"\"\"\n",
        "\n",
        "        self.char_to_idx = vocab['char_to_idx']\n",
        "        self.idx_to_char = vocab['idx_to_char']\n",
        "        self.vocab_size = vocab['vocab_size']"
      ]
    },
    {
      "cell_type": "code",
      "execution_count": null,
      "metadata": {
        "colab": {
          "base_uri": "https://localhost:8080/"
        },
        "id": "8rd3KigT-j9m",
        "outputId": "1697b74d-7aeb-420e-aa05-e48a92c85a9f"
      },
      "outputs": [
        {
          "name": "stdout",
          "output_type": "stream",
          "text": [
            "Vocab size: 165\n"
          ]
        }
      ],
      "source": [
        "tokenizer = CharLevelTokenizer()\n",
        "tokenizer.fit(lyrics)\n",
        "\n",
        "print('Vocab size:', tokenizer.vocab_size)"
      ]
    },
    {
      "cell_type": "code",
      "execution_count": null,
      "metadata": {
        "colab": {
          "base_uri": "https://localhost:8080/"
        },
        "id": "-zYtuN-M_pB6",
        "outputId": "e32b4c92-7194-4856-cae8-779f78d61270"
      },
      "outputs": [
        {
          "name": "stdout",
          "output_type": "stream",
          "text": [
            "Sample: [14, 12, 13, 12, 1, 69, 71, 63, 63, 55, 68, 126, 146, 1, 125, 143, 112, 136, 100, 138, 83, 108, 1, 131, 148, 108, 143, 130, 117, 148, 0, 66, 62, 51, 70, 56, 65, 68, 63, 1, 14, 1, 126, 146, 1, 123, 142, 125, 136, 131, 136, 83, 115, 146, 1, 85, 83, 115, 135, 126, 1, 131, 142, 117, 148, 131, 143, 130, 117, 148, 0, 95, 98, 1, 126, 138, 98, 148, 80, 93, 131, 135, 80, 113, 117, 138, 1, 103, 139, 131, 143, 126, 135, 1, 108, 98, 148, 98, 138, 117]\n",
            "\n",
            "Total Tokens Length: 635860\n"
          ]
        }
      ],
      "source": [
        "# Tokenizing our Dataset\n",
        "enc_data = tokenizer.encode(''.join(lyrics))\n",
        "\n",
        "print('Sample:', enc_data[:100], end = '\\n\\n')\n",
        "print('Total Tokens Length:', len(enc_data))"
      ]
    },
    {
      "cell_type": "markdown",
      "metadata": {
        "id": "C3ekNcE-AJ7x"
      },
      "source": [
        "# Byte Pair Encoding Tokenization"
      ]
    },
    {
      "cell_type": "code",
      "execution_count": null,
      "metadata": {
        "id": "Lu7DvS15TYTO"
      },
      "outputs": [],
      "source": [
        "import json\n",
        "import re\n",
        "from tqdm import tqdm\n",
        "\n",
        "class BPETokenizer:\n",
        "    def __init__(self, vocab_size=1000):\n",
        "        self.vocab_size = vocab_size\n",
        "        self.token_to_idx = {}\n",
        "        self.idx_to_token = {}\n",
        "        self.pattern = None\n",
        "\n",
        "    def _get_stats(self, ids):\n",
        "        # Count frequency of adjacent pairs\n",
        "        counts = {}\n",
        "        i = 0\n",
        "        while i < len(ids) - 1:\n",
        "            pair = (ids[i], ids[i+1])\n",
        "            counts[pair] = counts.get(pair, 0) + 1\n",
        "            i += 1\n",
        "        return counts\n",
        "\n",
        "    def _merge(self, ids, pair, idx):\n",
        "        newids = []\n",
        "        i = 0\n",
        "        while i < len(ids):\n",
        "            if i < len(ids) - 1 and ids[i] == pair[0] and ids[i+1] == pair[1]:\n",
        "                newids.append(idx)\n",
        "                i += 2\n",
        "            else:\n",
        "                newids.append(ids[i])\n",
        "                i += 1\n",
        "        return newids\n",
        "\n",
        "    def fit(self, texts, verbose = False):\n",
        "\n",
        "        unique_chars = sorted(set(''.join(texts)))\n",
        "        self.idx_to_token = {idx: char for idx, char in enumerate(unique_chars)}\n",
        "        self.token_to_idx = {char: idx for idx, char in enumerate(unique_chars)}\n",
        "        current_vocab_size = len(unique_chars)\n",
        "\n",
        "        if verbose:\n",
        "            print(f\"Initial vocabulary size: {current_vocab_size}\")\n",
        "\n",
        "        # Convert text to token ids\n",
        "        ids = [self.token_to_idx[char] for char in ''.join(texts)]\n",
        "\n",
        "        num_merges = self.vocab_size - current_vocab_size\n",
        "\n",
        "        for i in tqdm(range(num_merges), desc=\"Training BPE\"):\n",
        "            stats = self._get_stats(ids)\n",
        "            if not stats:\n",
        "                break\n",
        "\n",
        "            # Find most frequent pair\n",
        "            pair = max(stats.items(), key=lambda x: x[1])[0]\n",
        "\n",
        "            # Replace all occurrences of pair with new token\n",
        "            ids = self._merge(ids, pair, current_vocab_size)\n",
        "\n",
        "            # Update vocabulary\n",
        "            merged_token = self.idx_to_token[pair[0]] + self.idx_to_token[pair[1]]\n",
        "            self.idx_to_token[current_vocab_size] = merged_token\n",
        "            current_vocab_size += 1\n",
        "\n",
        "        self.token_to_idx = {token: idx for idx, token in self.idx_to_token.items()}\n",
        "\n",
        "        if verbose:\n",
        "            print(f\"Final vocabulary size: {current_vocab_size}\")\n",
        "\n",
        "        \n",
        "        # Sort tokens by length in descending order to match longest tokens first\n",
        "        tokens_by_length = sorted(self.token_to_idx.keys(), key=len, reverse=True)\n",
        "        self.pattern = re.compile(\"|\".join(map(re.escape, tokens_by_length))) # Create regex pattern for tokenization\n",
        "\n",
        "    def encode(self, text):\n",
        "        if self.pattern is None:\n",
        "            raise ValueError(\"Tokenizer must be fitted before encoding\")\n",
        "\n",
        "        # Find all tokens in text using regex pattern\n",
        "        tokens = self.pattern.findall(text)\n",
        "\n",
        "        return [self.token_to_idx[token] for token in tokens]\n",
        "\n",
        "    def decode(self, ids):\n",
        "        return ''.join(self.idx_to_token[idx] for idx in ids)\n",
        "\n",
        "    def _get_vocab(self):\n",
        "        return {\n",
        "            'token_to_idx': self.token_to_idx,\n",
        "            'idx_to_token': self.idx_to_token,\n",
        "            'vocab_size': self.vocab_size\n",
        "        }\n",
        "\n",
        "    def save_vocab(self, filename: str):\n",
        "        vocab = self._get_vocab()\n",
        "        with open(f\"{filename}.json\", 'w', encoding='utf-8') as f:\n",
        "            json.dump(vocab, f, ensure_ascii=False, indent=2)\n",
        "\n",
        "    def load_vocab(self, filename: str):\n",
        "        with open(f\"{filename}.json\", 'r', encoding='utf-8') as f:\n",
        "            vocab = json.load(f)\n",
        "        self.token_to_idx = vocab['token_to_idx']\n",
        "        self.idx_to_token = vocab['idx_to_token']\n",
        "        self.vocab_size = vocab['vocab_size']\n",
        "\n",
        "        # Recreate regex pattern\n",
        "        tokens_by_length = sorted(self.token_to_idx.keys(), key=len, reverse=True)\n",
        "        self.pattern = re.compile(\"|\".join(map(re.escape, tokens_by_length)))"
      ]
    },
    {
      "cell_type": "code",
      "execution_count": null,
      "metadata": {
        "colab": {
          "base_uri": "https://localhost:8080/"
        },
        "id": "eXfu6hAkIrVE",
        "outputId": "f578314e-857c-4c15-827e-56dd9df8bccc"
      },
      "outputs": [
        {
          "name": "stderr",
          "output_type": "stream",
          "text": [
            "Training BPE: 100%|██████████| 347/347 [02:27<00:00,  2.35it/s]"
          ]
        },
        {
          "name": "stdout",
          "output_type": "stream",
          "text": [
            "\n",
            "Vocab size: 512\n"
          ]
        },
        {
          "name": "stderr",
          "output_type": "stream",
          "text": [
            "\n"
          ]
        }
      ],
      "source": [
        "tokenizer = BPETokenizer(vocab_size=512)\n",
        "tokenizer.fit(lyrics)\n",
        "\n",
        "print('\\nVocab size:', tokenizer.vocab_size)"
      ]
    },
    {
      "cell_type": "code",
      "execution_count": null,
      "metadata": {
        "colab": {
          "base_uri": "https://localhost:8080/"
        },
        "id": "mh24qa-YPQ8J",
        "outputId": "10b3baac-f371-49e9-97d3-f8953df45e6b"
      },
      "outputs": [
        {
          "name": "stdout",
          "output_type": "stream",
          "text": [
            "Sample: [14, 12, 13, 12, 1, 69, 71, 63, 63, 333, 253, 215, 112, 136, 223, 181, 245, 148, 108, 143, 130, 171, 0, 66, 62, 51, 70, 56, 65, 68, 63, 1, 14, 1, 253, 413, 183, 233, 175, 172, 358, 176, 245, 142, 171, 368, 130, 171, 0, 437, 1, 375, 200, 80, 93, 290, 80, 113, 226, 274, 368, 359, 108, 252, 138, 195, 131, 183, 174, 264, 290, 0, 200, 182, 120, 251, 131, 142, 207, 427, 344, 410, 175, 125, 253, 412, 279, 119, 226, 317, 187, 427, 290, 0, 105, 138, 224, 502, 314, 252]\n",
            "\n",
            "Total Tokens Length: 346606\n"
          ]
        }
      ],
      "source": [
        "enc_data = tokenizer.encode(''.join(lyrics))\n",
        "\n",
        "print('Sample:', enc_data[:100], end = '\\n\\n')\n",
        "print('Total Tokens Length:', len(enc_data))"
      ]
    },
    {
      "cell_type": "code",
      "execution_count": null,
      "metadata": {
        "colab": {
          "base_uri": "https://localhost:8080/"
        },
        "id": "jW3kOykeVbCJ",
        "outputId": "e773a227-8400-4284-e5b0-974b79b8fbee"
      },
      "outputs": [
        {
          "name": "stdout",
          "output_type": "stream",
          "text": [
            "Seq length scaled by 0.55X\n"
          ]
        }
      ],
      "source": [
        "# Compression in seq length\n",
        "print(f\"Seq length scaled by {len(enc_data)/len(''.join(lyrics)):.2f}X\")"
      ]
    },
    {
      "cell_type": "code",
      "execution_count": null,
      "metadata": {
        "id": "2I0peKaQWKc_"
      },
      "outputs": [],
      "source": [
        "tokenizer.save_vocab('bpe_tokenizer')"
      ]
    }
  ],
  "metadata": {
    "colab": {
      "provenance": []
    },
    "kernelspec": {
      "display_name": "Python 3",
      "name": "python3"
    },
    "language_info": {
      "name": "python",
      "version": "3.11.9"
    }
  },
  "nbformat": 4,
  "nbformat_minor": 0
}
